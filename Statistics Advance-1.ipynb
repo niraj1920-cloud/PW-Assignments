{
 "cells": [
  {
   "cell_type": "markdown",
   "id": "e27eacec-3a04-45a0-b5c7-fa6cdd87c508",
   "metadata": {},
   "source": [
    "#### Q1. What is the Probability density function?"
   ]
  },
  {
   "cell_type": "markdown",
   "id": "cfe0484f-d76e-4aca-90ff-f1e3cd39cf90",
   "metadata": {},
   "source": [
    "Probability density function is the distribution of the continous data.The probability density function provides a way to describe the likelihood of different outcomes for continuous random variables. It does not give the probability of a specific value (since the probability at a single point is technically zero for continuous variables), but rather the probability within a range of values.\n",
    "\n",
    "Probability density is the gradient descent of the cumulative density function."
   ]
  },
  {
   "cell_type": "markdown",
   "id": "eb66a7e9-5cea-47a3-b404-15ae219859d8",
   "metadata": {},
   "source": [
    "#### Q2. What are the types of Probability distribution?"
   ]
  },
  {
   "cell_type": "markdown",
   "id": "b11237ad-51c6-4bd2-a28d-ffd66e3c5381",
   "metadata": {},
   "source": [
    "There are several types of probability distributions:\n",
    "\n",
    "1.Bernoulli Distribution:The discrete probability distribution of a random variable which takes the value 1 with probability p and the value 0 with probability q=1-p\n",
    "Outcomes are binary.\n",
    "\n",
    "2.Poisson Distribution: Discrete distribution.It describes the number of events occuring in a fixed time interval.\n",
    "Eg: No. of people visiting bank every hour, No. of people visiting airport every hour\n",
    "\n",
    "3.Normal Distribution(Gaussian Distribution): A symmetric, bell-shaped distribution characterized by its mean and standard deviation\n",
    "\n",
    "4.Uniform Distribution:\n",
    "\n",
    "i.Continous Uniform Distribution:In probability theory and statistics, the continous uniform distribution or rectangular distribution is a family of symmetric probability distribution. The distribution describes an experiment where there is an arbitary outcome that lies between certain bounds.The bounds are defined by the parameters a & b, which are the minimum and maximum values.\n",
    "\n",
    "ii.Discrete Uniform Distribution: In probability theory and statistics the discrete uniform distribution is a symmetric probability distribution wherein a finite no. of values are equally likely to be observed, every one of n values has equal probability 1/n.Another way of saying discrete uniform distribution would be a known finite no. of outcomes equally likely to happen.\n",
    "\n",
    "5.Standard Normal Distribution: In gaussian or normal distribution we can have any standard deviation, any mean but if we take this distribution and try to apply some transformation technique after we change this random variable to something wherein we get mean=0 and standard deviation=1 then those kind of distribution we can specifically say as standard normal distribution."
   ]
  },
  {
   "cell_type": "markdown",
   "id": "18e0f7fa-36c7-47dc-a8c4-b5acb0f4f2d6",
   "metadata": {},
   "source": [
    "#### Q3. Write a Python function to calculate the probability density function of a normal distribution with given mean and standard deviation at a given point."
   ]
  },
  {
   "attachments": {
    "cc4da303-735c-4978-a201-2d9372f661c4.png": {
     "image/png": "[encoded data removed]"
    }
   },
   "cell_type": "markdown",
   "id": "b6937021-7db3-44ae-9c5f-7ea8c84430cf",
   "metadata": {},
   "source": [
    "To calculate the probability density function (PDF) of a normal distribution at a given point \n",
    "x with a given mean(μ) and standard deviation (σ), we can use the formula:\n",
    "\n",
    "![image.png](attachment:cc4da303-735c-4978-a201-2d9372f661c4.png)"
   ]
  },
  {
   "cell_type": "code",
   "execution_count": 2,
   "id": "4a661619-94fb-4c57-a928-3052d5c18479",
   "metadata": {},
   "outputs": [
    {
     "name": "stdout",
     "output_type": "stream",
     "text": [
      "0.24197072451914337\n"
     ]
    }
   ],
   "source": [
    "import math\n",
    "\n",
    "def normal_pdf(x,mean,std_dev):\n",
    "    exponent = -((x-mean)**2) / (2*std_dev**2)\n",
    "    pdf = (1/math.sqrt(2*math.pi)*std_dev) * math.exp(exponent)\n",
    "    return pdf\n",
    "\n",
    "mean = 0\n",
    "std_dev = 1\n",
    "x = 1\n",
    "\n",
    "pdf_value = normal_pdf(x,mean,std_dev)\n",
    "print(pdf_value)"
   ]
  },
  {
   "cell_type": "markdown",
   "id": "b0dc2937-5d21-4a5e-ae17-7ec1ff42594f",
   "metadata": {},
   "source": [
    "#### Q4. What are the properties of Binomial distribution? Give two examples of events where binomial distribution can be applied."
   ]
  },
  {
   "cell_type": "markdown",
   "id": "d0cde994-2f16-4172-949b-7aead4773ebd",
   "metadata": {},
   "source": [
    "Properties of Binomial distribution:\n",
    "\n",
    "1.No. of trials(n):The distribution is based on a fixed no. of independent trials denoted by n\n",
    "\n",
    "2.Two Possible Outcomes: Each trial has only two possible outcomes, often referred to as \"success\" and \"failure.\"\n",
    "\n",
    "3.Independence: The trials must be independent of each other.\n",
    "\n",
    "4.Constant Probability of Success (p): The probability of success (p) remains constant for each trial.\n",
    "\n",
    "Examples of Events Where Binomial Distribution Can Be Applied:\n",
    "\n",
    "i.Coin Flips:\n",
    "Experiment: Flipping a fair coin multiple times.\n",
    "Outcomes: Success (e.g., getting heads) or failure (e.g., getting tails).\n",
    "Parameters: n trials (number of coin flips), p probability of heads (assuming a fair coin).\n",
    "\n",
    "ii.Medical Diagnosis:\n",
    "Experiment: Conducting medical tests for a specific disease.\n",
    "Outcomes: Positive test (success) or negative test (failure).\n",
    "Parameters: n tests, p probability of a positive test for individuals with the disease."
   ]
  },
  {
   "cell_type": "markdown",
   "id": "1229a061-31e9-46f6-9435-f52d84cf5089",
   "metadata": {},
   "source": [
    "#### Q5. Generate a random sample of size 1000 from a binomial distribution with probability of success 0.4 and plot a histogram of the results using matplotlib."
   ]
  },
  {
   "cell_type": "code",
   "execution_count": 4,
   "id": "3a614915-0b46-454c-a342-c5becc2e6a4e",
   "metadata": {},
   "outputs": [
    {
     "data": {
      "image/png": "[encoded data removed]",
      "text/plain": [
       "<Figure size 640x480 with 1 Axes>"
      ]
     },
     "metadata": {},
     "output_type": "display_data"
    }
   ],
   "source": [
    "import numpy as np\n",
    "import matplotlib.pyplot as plt\n",
    "\n",
    "np.random.seed(42)\n",
    "\n",
    "random_size = 1000\n",
    "probability_of_success = 0.4\n",
    "random_sample = np.random.binomial(1,probability_of_success,size=random_size) #here 1 means no. of trials,probability of success on each trail and size\n",
    "\n",
    "plt.hist(random_sample , bins = [-0.5,0.5,1.5] , edgecolor=\"black\")\n",
    "plt.title(\"Binomial Distribution\")\n",
    "plt.xlabel(\"Outcome\")\n",
    "plt.ylabel(\"Frequency\")\n",
    "plt.xticks([0,1] , [\"Failure\" , \"Success\"])\n",
    "plt.show()"
   ]
  },
  {
   "cell_type": "markdown",
   "id": "bef070fe-df0a-471f-8f45-d211d082d7ef",
   "metadata": {},
   "source": [
    "#### Q6. Write a Python function to calculate the cumulative distribution function of a Poisson distribution with given mean at a given point."
   ]
  },
  {
   "cell_type": "code",
   "execution_count": null,
   "id": "fc3eadcf-2885-4d7a-b625-db244d7b7433",
   "metadata": {},
   "outputs": [
    {
     "name": "stdout",
     "output_type": "stream",
     "text": [
      "The CDF at x=3 is 0.7575761331330659\n"
     ]
    }
   ],
   "source": [
    "import math\n",
    "\n",
    "def poisson_cdf(x,mean):\n",
    "    \"\"\"\n",
    "Calculate the cumulative density function(cdf) for a poisson distribution\n",
    "\n",
    "Parameters:\n",
    "-x:The point at which you want to calculate the CDF\n",
    "-mean:mean of poisson distribution\n",
    "    \"\"\"\n",
    "    cdf_value = 0\n",
    "    for k in range(x+1):\n",
    "        cdf_value += math.exp(-mean) * (mean**k) / math.factorial(k)\n",
    "    return cdf_value\n",
    "\n",
    "mean_value = 2.5\n",
    "point = 3\n",
    "\n",
    "cdf_value = poisson_cdf(point,mean_value)\n",
    "print(f\"The CDF at x={point} is {cdf_value}\")"
   ]
  },
  {
   "cell_type": "markdown",
   "id": "cd4dc94e-f8ba-4744-89dc-78a3d66bb071",
   "metadata": {},
   "source": [
    "#### Q7. How Binomial distribution different from Poisson distribution?"
   ]
  },
  {
   "cell_type": "markdown",
   "id": "88f6f4a6-0674-493c-b3f0-54e75c39f0b1",
   "metadata": {},
   "source": [
    "The Binomial distribution and the Poisson distribution are both probability distributions that describe the number of events in a fixed number of trials or a fixed interval, but they have different characteristics and are used in different contexts.\n",
    "\n",
    "##### Binomial Distribution:\n",
    "\n",
    "1.No. of trials(n): The Binomial distribution is used to model the no. of successes in a fixed number (n) of independent and dependent trials.\n",
    "\n",
    "2.Outcomes: Each trial has two possible outcomes success(usually denoted as 1) and failure(usually denoted as 0).\n",
    "\n",
    "3.Probability of Success(p): Probability of success(p) is constant for each trial.\n",
    "\n",
    "4.Parameterized by n and p: The distribution is fully defined by two parameters- the no. of trials(n) and the probability of success(p).\n",
    "\n",
    "5.Applicability: Commonly used in situations where there are a fixed number of trials, and each trial has two possible outcomes (success or failure), such as coin flips, manufacturing processes, or quality control.\n",
    "\n",
    "##### Poisson Distribution:\n",
    "\n",
    "1.Number of Events in an Interval(x): The Poisson distribution is used to model the number of events that occur in a fixed interval of time or space.\n",
    "\n",
    "2.Rate (λ): Instead of specifying a fixed number of trials, the Poisson distribution is characterized by a rate parameter (λ), representing the average number of events in the interval.\n",
    "\n",
    "3.Probability of Success (p): The probability of success is not explicitly defined, but rather inferred from the rate parameter (λ).\n",
    "\n",
    "4.Applicability: Commonly used in situations where events occur randomly and independently in a fixed interval, such as the number of phone calls at a call center in an hour, accidents in a day, or the number of emails received in an hour.\n",
    "\n",
    "Differences Summary:\n",
    "\n",
    "Nature of Trials: Binomial involves a fixed number of identical trials, while Poisson involves events occurring randomly and independently in a fixed interval.\n",
    "\n",
    "Outcomes: Binomial has two outcomes (success or failure), while Poisson has a count of events.\n",
    "\n",
    "Parameterization: Binomial is parameterized by n and p, while Poisson is parameterized by the rate parameter(λ).\n",
    "\n",
    "Distribution Shape: Binomial is often symmetric, while Poisson can be skewed to the right.\n",
    "\n",
    "In summary, the choice between Binomial and Poisson depends on the nature of the process being modeled and whether the number of trials is fixed or the events occur randomly in a fixed interval."
   ]
  },
  {
   "cell_type": "markdown",
   "id": "d1a9ab59-bb41-4778-96e9-cf59fa5ae540",
   "metadata": {},
   "source": [
    "#### Q8. Generate a random sample of size 1000 from a Poisson distribution with mean 5 and calculate the sample mean and variance."
   ]
  },
  {
   "cell_type": "code",
   "execution_count": 6,
   "id": "879feb14-be1a-49a6-80df-e2459d7380ab",
   "metadata": {},
   "outputs": [
    {
     "name": "stdout",
     "output_type": "stream",
     "text": [
      "The sample mean is 4.985\n",
      "The sample variance is 5.001776776776777\n"
     ]
    }
   ],
   "source": [
    "import numpy as np\n",
    "\n",
    "np.random.seed(42)\n",
    "\n",
    "mean = 5\n",
    "random_size = 1000\n",
    "\n",
    "poisson_dist = np.random.poisson(mean , random_size)\n",
    "\n",
    "sample_mean = np.mean(poisson_dist)\n",
    "sample_variance = np.var(poisson_dist,ddof=1) #ddof=1 parameter is used to compute the unbiased sample variance\n",
    "\n",
    "print(f\"The sample mean is {sample_mean}\")\n",
    "print(f\"The sample variance is {sample_variance}\")"
   ]
  },
  {
   "cell_type": "markdown",
   "id": "c16f3eeb-adac-437d-91dc-d99bce000c20",
   "metadata": {},
   "source": [
    "#### Q9. How mean and variance are related in Binomial distribution and Poisson distribution?"
   ]
  },
  {
   "cell_type": "markdown",
   "id": "0ad0d2b3-349f-4ec6-8335-eaf3dc30ffb5",
   "metadata": {},
   "source": [
    "##### Binomial Distribution:\n",
    "\n",
    "Mean (μ): For a Binomial distribution with parameters n (number of trials) and p (probability of success in a single trial), the mean is given by μ=np.\n",
    "\n",
    "Variance: The variance is given by = np(1−p).\n",
    "\n",
    "Relationship: The variance of a Binomial distribution is directly proportional to both the number of trials n and the probability of success p. As n or p increases, the variance increases. The relationship between the mean and variance is not straightforward but depends on the values of n and p.\n",
    "\n",
    "##### Poisson Distribution:\n",
    "Mean (λ): For a Poisson distribution, the mean is given by λ.\n",
    "\n",
    "Variance : The variance is also given by λ.\n",
    "\n",
    "Relationship: In the Poisson distribution, the mean and variance are equal. The variance of a Poisson distribution is solely determined by the mean, and there is a one-to-one relationship between them. As the mean (λ) increases, the variance also increases."
   ]
  },
  {
   "cell_type": "markdown",
   "id": "1890503b-5454-435c-8da1-7b90c60950d0",
   "metadata": {},
   "source": [
    "#### Q10. In normal distribution with respect to mean position, where does the least frequent data appear?"
   ]
  },
  {
   "cell_type": "markdown",
   "id": "47a629e9-a88e-488c-a03f-3d0f423b389f",
   "metadata": {},
   "source": [
    "In a normal distribution (also known as a Gaussian distribution or bell curve), the least frequent data appears in the tails of the distribution, farther away from the mean. The normal distribution is symmetric, and its shape is characterized by the mean (μ) and standard deviation (σ).\n",
    "\n",
    "Here are some key points regarding the normal distribution and the position of data with respect to the mean:\n",
    "\n",
    "Central Peak (Mean): The highest point on the normal distribution curve is the mean (μ). The data is most concentrated around the mean, making values close to the mean more frequent.\n",
    "\n",
    "Tails: As you move away from the mean in either direction along the x-axis, the frequency of data points decreases. The tails of the distribution represent values that are less likely to occur.\n",
    "\n",
    "68-95-99.7 Rule (Empirical Rule): In a normal distribution:\n",
    "\n",
    "Approximately 68% of the data falls within one standard deviation (σ) from the mean.\n",
    "Approximately 95% falls within two standard deviations from the mean.\n",
    "Approximately 99.7% falls within three standard deviations from the mean.\n",
    "Outliers: Values in the tails, more than a few standard deviations away from the mean, are considered outliers and are less likely to occur in a normal distribution.\n",
    "\n",
    "So, the least frequent data appears in the tails, which are the extreme values farther away from the mean. The majority of the data is concentrated around the mean in the central region of the distribution."
   ]
  },
  {
   "cell_type": "code",
   "execution_count": null,
   "id": "9637dabd-eb92-4a83-9b95-973470c1143c",
   "metadata": {},
   "outputs": [],
   "source": []
  }
 ],
 "metadata": {
  "kernelspec": {
   "display_name": "Python 3 (ipykernel)",
   "language": "python",
   "name": "python3"
  },
  "language_info": {
   "codemirror_mode": {
    "name": "ipython",
    "version": 3
   },
   "file_extension": ".py",
   "mimetype": "text/x-python",
   "name": "python",
   "nbconvert_exporter": "python",
   "pygments_lexer": "ipython3",
   "version": "3.10.8"
  }
 },
 "nbformat": 4,
 "nbformat_minor": 5
}
