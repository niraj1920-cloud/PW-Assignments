{
 "cells": [
  {
   "cell_type": "markdown",
   "id": "8be709d1",
   "metadata": {},
   "source": [
    "**Q1.Create one variable containing following type of data:\n",
    "(i)string\n",
    "(ii)list\n",
    "(iii)float\n",
    "(iv)tuple**"
   ]
  },
  {
   "cell_type": "code",
   "execution_count": 3,
   "id": "1e3a4cbd",
   "metadata": {},
   "outputs": [
    {
     "data": {
      "text/plain": [
       "['niraj', [2, 3, 4, 5, 6], 34.56, (7, 8, 9)]"
      ]
     },
     "execution_count": 3,
     "metadata": {},
     "output_type": "execute_result"
    }
   ],
   "source": [
    "data = [\"niraj\" , [2,3,4,5,6] , 34.56 , (7,8,9)]\n",
    "data"
   ]
  },
  {
   "cell_type": "markdown",
   "id": "303dd2fa",
   "metadata": {},
   "source": [
    "**Q2.Given are some following variables containing data:**"
   ]
  },
  {
   "cell_type": "code",
   "execution_count": 6,
   "id": "286511cb",
   "metadata": {},
   "outputs": [
    {
     "data": {
      "text/plain": [
       "str"
      ]
     },
     "execution_count": 6,
     "metadata": {},
     "output_type": "execute_result"
    }
   ],
   "source": [
    "var1=''\n",
    "type(var1)"
   ]
  },
  {
   "cell_type": "code",
   "execution_count": 7,
   "id": "5f02301d",
   "metadata": {},
   "outputs": [
    {
     "data": {
      "text/plain": [
       "str"
      ]
     },
     "execution_count": 7,
     "metadata": {},
     "output_type": "execute_result"
    }
   ],
   "source": [
    "var2='[DS,ML,Python]'\n",
    "type(var2)"
   ]
  },
  {
   "cell_type": "code",
   "execution_count": 9,
   "id": "17a186af",
   "metadata": {},
   "outputs": [
    {
     "data": {
      "text/plain": [
       "list"
      ]
     },
     "execution_count": 9,
     "metadata": {},
     "output_type": "execute_result"
    }
   ],
   "source": [
    "var3 = [ 'DS' , 'ML' , 'Python' ]\n",
    "type(var3)"
   ]
  },
  {
   "cell_type": "code",
   "execution_count": 10,
   "id": "992f0980",
   "metadata": {},
   "outputs": [
    {
     "data": {
      "text/plain": [
       "int"
      ]
     },
     "execution_count": 10,
     "metadata": {},
     "output_type": "execute_result"
    }
   ],
   "source": [
    "var4 = 1\n",
    "type(var4)"
   ]
  },
  {
   "cell_type": "markdown",
   "id": "2dce4450",
   "metadata": {},
   "source": [
    "**Q3. Explain the use of the following operators using an example:**"
   ]
  },
  {
   "cell_type": "markdown",
   "id": "a641f724",
   "metadata": {},
   "source": [
    "(i) / (Division Operator): The / operator performs division between two numbers and returns the quotient as a floating-point number."
   ]
  },
  {
   "cell_type": "code",
   "execution_count": 12,
   "id": "06736ffb",
   "metadata": {},
   "outputs": [
    {
     "data": {
      "text/plain": [
       "3.3333333333333335"
      ]
     },
     "execution_count": 12,
     "metadata": {},
     "output_type": "execute_result"
    }
   ],
   "source": [
    "10/3"
   ]
  },
  {
   "cell_type": "markdown",
   "id": "2262ba6e",
   "metadata": {},
   "source": [
    "(ii) % (Modulo Operator): The % operator calculates the remainder after division between two numbers."
   ]
  },
  {
   "cell_type": "code",
   "execution_count": 13,
   "id": "b488fea3",
   "metadata": {},
   "outputs": [
    {
     "data": {
      "text/plain": [
       "1"
      ]
     },
     "execution_count": 13,
     "metadata": {},
     "output_type": "execute_result"
    }
   ],
   "source": [
    "10%3"
   ]
  },
  {
   "cell_type": "markdown",
   "id": "8447a271",
   "metadata": {},
   "source": [
    "(iii) // (Floor Division Operator): The // operator performs division between two numbers and returns the quotient as an integer, discarding the decimal part."
   ]
  },
  {
   "cell_type": "code",
   "execution_count": 14,
   "id": "afaf4187",
   "metadata": {},
   "outputs": [
    {
     "data": {
      "text/plain": [
       "3"
      ]
     },
     "execution_count": 14,
     "metadata": {},
     "output_type": "execute_result"
    }
   ],
   "source": [
    "10//3"
   ]
  },
  {
   "cell_type": "markdown",
   "id": "2140c6b9",
   "metadata": {},
   "source": [
    "(iv) ** (Exponentiation Operator): The ** operator raises the left operand to the power of the right operand."
   ]
  },
  {
   "cell_type": "code",
   "execution_count": 15,
   "id": "9c9983a1",
   "metadata": {},
   "outputs": [
    {
     "data": {
      "text/plain": [
       "8"
      ]
     },
     "execution_count": 15,
     "metadata": {},
     "output_type": "execute_result"
    }
   ],
   "source": [
    "2**3"
   ]
  },
  {
   "cell_type": "markdown",
   "id": "c34d3ff4",
   "metadata": {},
   "source": [
    "**Q4. Create a list of length 10 of your choice containing multiple types of data. Using for loop print the\n",
    "element and its data type.**"
   ]
  },
  {
   "cell_type": "code",
   "execution_count": 17,
   "id": "0f807518",
   "metadata": {},
   "outputs": [
    {
     "name": "stdout",
     "output_type": "stream",
     "text": [
      "23 data type  <class 'int'>\n",
      "56 data type  <class 'int'>\n",
      "78 data type  <class 'int'>\n",
      "99 data type  <class 'int'>\n",
      "niraj data type  <class 'str'>\n",
      "66.89 data type  <class 'float'>\n",
      "[1, 2, 3, 4, 5] data type  <class 'list'>\n",
      "(6, 7, 8, 9) data type  <class 'tuple'>\n",
      "(4+7j) data type  <class 'complex'>\n",
      "shinde data type  <class 'str'>\n"
     ]
    }
   ],
   "source": [
    "l=[23,56,78,99,'niraj',66.89,[1,2,3,4,5],(6,7,8,9),4+7j,'shinde']\n",
    "for i in l:\n",
    "    print(i,\"data type \",type(i))"
   ]
  },
  {
   "cell_type": "markdown",
   "id": "d00eb11e",
   "metadata": {},
   "source": [
    "**Q5.Using a while loop, verify if the number A is purely divisible by number B and if so then how many\n",
    "times it can be divisible.**"
   ]
  },
  {
   "cell_type": "code",
   "execution_count": 25,
   "id": "7d2952cf",
   "metadata": {},
   "outputs": [
    {
     "name": "stdout",
     "output_type": "stream",
     "text": [
      "Number a is divisible by b, and it can be divided {3} times.\n"
     ]
    }
   ],
   "source": [
    "a=64\n",
    "b=4\n",
    "count=0\n",
    "while a%b==0:\n",
    "    a=a//b\n",
    "    count += 1\n",
    "if count > 0:\n",
    "    print(\"Number a is divisible by b, and it can be divided\" ,{count} ,\"times.\")\n",
    "else:\n",
    "    print(\"Number a is not divisble by b\")"
   ]
  },
  {
   "cell_type": "markdown",
   "id": "a12058f9",
   "metadata": {},
   "source": [
    "**Q6. Create a list containing 25 int type data. Using for loop and if-else condition print if the element is\n",
    "divisible by 3 or not.**"
   ]
  },
  {
   "cell_type": "code",
   "execution_count": 34,
   "id": "5014f998",
   "metadata": {},
   "outputs": [
    {
     "name": "stdout",
     "output_type": "stream",
     "text": [
      "Numbers not divisible by 3 are 1\n",
      "Numbers not divisible by 3 are 2\n",
      "Numbers divisible by 3 are: 3\n",
      "Numbers not divisible by 3 are 4\n",
      "Numbers not divisible by 3 are 5\n",
      "Numbers divisible by 3 are: 6\n",
      "Numbers not divisible by 3 are 7\n",
      "Numbers not divisible by 3 are 8\n",
      "Numbers divisible by 3 are: 9\n",
      "Numbers not divisible by 3 are 10\n",
      "Numbers not divisible by 3 are 11\n",
      "Numbers divisible by 3 are: 12\n",
      "Numbers not divisible by 3 are 13\n",
      "Numbers not divisible by 3 are 14\n",
      "Numbers divisible by 3 are: 15\n",
      "Numbers not divisible by 3 are 16\n",
      "Numbers not divisible by 3 are 17\n",
      "Numbers divisible by 3 are: 18\n",
      "Numbers not divisible by 3 are 19\n",
      "Numbers not divisible by 3 are 20\n",
      "Numbers divisible by 3 are: 21\n",
      "Numbers not divisible by 3 are 22\n",
      "Numbers not divisible by 3 are 23\n",
      "Numbers divisible by 3 are: 24\n",
      "Numbers not divisible by 3 are 25\n"
     ]
    }
   ],
   "source": [
    "my_list=[]\n",
    "for i in range(1,26):\n",
    "    my_list.append(i)\n",
    "\n",
    "for j in my_list:\n",
    "    if j % 3 == 0:\n",
    "        print(\"Numbers divisible by 3 are:\" , j)\n",
    "    else:\n",
    "        print(\"Numbers not divisible by 3 are\" , j)"
   ]
  },
  {
   "cell_type": "markdown",
   "id": "6c5548cb",
   "metadata": {},
   "source": [
    "**Q7. What do you understand about mutable and immutable data types? Give examples for both showing\n",
    "this property.**"
   ]
  },
  {
   "cell_type": "markdown",
   "id": "2b33f9ec",
   "metadata": {},
   "source": [
    "String (immutable):"
   ]
  },
  {
   "cell_type": "markdown",
   "id": "3d0a7466",
   "metadata": {},
   "source": [
    "In this example, the original string Hello is concatenated with the string World using the + operator. The original string remains unchanged, and a new string object Hello World is created."
   ]
  },
  {
   "cell_type": "code",
   "execution_count": 36,
   "id": "034d496d",
   "metadata": {},
   "outputs": [
    {
     "name": "stdout",
     "output_type": "stream",
     "text": [
      "Hello World\n"
     ]
    }
   ],
   "source": [
    "s = \"Hello\"\n",
    "s = s + \" World\"\n",
    "print(s) "
   ]
  },
  {
   "cell_type": "markdown",
   "id": "0ff18828",
   "metadata": {},
   "source": [
    "List (mutable)"
   ]
  },
  {
   "cell_type": "markdown",
   "id": "1020785d",
   "metadata": {},
   "source": [
    "In this example, the append() method is used to add the value 4 to the existing list. The original list is modified directly, and there is no need to create a new list object."
   ]
  },
  {
   "cell_type": "code",
   "execution_count": 38,
   "id": "351a1983",
   "metadata": {},
   "outputs": [
    {
     "name": "stdout",
     "output_type": "stream",
     "text": [
      "[1, 2, 3, 4]\n"
     ]
    }
   ],
   "source": [
    "my_list = [1, 2, 3]\n",
    "my_list.append(4)\n",
    "print(my_list)  "
   ]
  },
  {
   "cell_type": "code",
   "execution_count": null,
   "id": "f5ca40ac",
   "metadata": {},
   "outputs": [],
   "source": []
  }
 ],
 "metadata": {
  "kernelspec": {
   "display_name": "Python 3",
   "language": "python",
   "name": "python3"
  },
  "language_info": {
   "codemirror_mode": {
    "name": "ipython",
    "version": 3
   },
   "file_extension": ".py",
   "mimetype": "text/x-python",
   "name": "python",
   "nbconvert_exporter": "python",
   "pygments_lexer": "ipython3",
   "version": "3.8.8"
  }
 },
 "nbformat": 4,
 "nbformat_minor": 5
}
