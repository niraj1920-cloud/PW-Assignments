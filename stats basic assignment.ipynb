{
 "cells": [
  {
   "cell_type": "markdown",
   "id": "4b813157-0592-4a79-a774-ba58f64e4ccb",
   "metadata": {},
   "source": [
    "#### Q1. What are the three measures of central tendency?"
   ]
  },
  {
   "cell_type": "markdown",
   "id": "4cbc9c67-ed57-4b94-b4dc-bc8c3e19036b",
   "metadata": {},
   "source": [
    "Mean (Average): The mean is calculated by adding up all the values in a dataset and then dividing the sum by the total number of values. It is the most common measure of central tendency.\n",
    "Mean=Sum of all values/Number of values\n",
    " \n",
    "Median: The median is the middle value of a dataset when it is ordered from least to greatest. If there is an even number of observations, the median is the average of the two middle values.\n",
    "\n",
    "Mode: The mode is the value that occurs most frequently in a dataset. A dataset may have one mode (unimodal), more than one mode (multimodal), or no mode at all."
   ]
  },
  {
   "cell_type": "markdown",
   "id": "c047fb8c-f17a-4ba3-b523-efcbc396b906",
   "metadata": {},
   "source": [
    "#### Q2. What is the difference between the mean, median, and mode? How are they used to measure the central tendency of a dataset?"
   ]
  },
  {
   "cell_type": "markdown",
   "id": "c7b4a5cb-475f-4af3-953b-63e95b7ef403",
   "metadata": {},
   "source": [
    "Mean:\n",
    "\n",
    "##### Calculation: The mean is the average of all values in a dataset.\n",
    "##### Use: It is sensitive to extreme values (outliers) and provides a measure of the center that minimizes the sum of squared differences between each value and the mean. It is commonly used in situations where the data is approximately normally distributed.\n",
    "\n",
    "Median:\n",
    "\n",
    "##### Calculation: The median is the middle value when the data set is ordered. If there is an even number of observations, the median is the average of the two middle values.\n",
    "##### Use: It is less sensitive to extreme values compared to the mean. The median is particularly useful when dealing with skewed distributions or datasets with outliers.\n",
    "\n",
    "Mode:\n",
    "\n",
    "##### Calculation: The mode is the value that occurs most frequently in a dataset.\n",
    "##### Use: The mode is useful for identifying the most common value(s) in a dataset. Unlike the mean and median, the mode can be used for categorical data as well as numerical data."
   ]
  },
  {
   "cell_type": "markdown",
   "id": "42fae7d5-a8f1-4d5d-98db-e5bacc3d0b7f",
   "metadata": {},
   "source": [
    "#### Q3. Measure the three measures of central tendency for the given height data:"
   ]
  },
  {
   "cell_type": "code",
   "execution_count": 1,
   "id": "bf12d564-caa1-43d7-8228-a914c1804781",
   "metadata": {},
   "outputs": [],
   "source": [
    "height = [178,177,176,177,178.2,178,175,179,180,175,178.9,176.2,177,172.5,178,176.5]"
   ]
  },
  {
   "cell_type": "code",
   "execution_count": 3,
   "id": "23080521-33e7-468a-9c32-acf18a6a1391",
   "metadata": {},
   "outputs": [],
   "source": [
    "import numpy as np"
   ]
  },
  {
   "cell_type": "code",
   "execution_count": 4,
   "id": "f59482a8-f56f-463a-8271-90d8c83bd145",
   "metadata": {},
   "outputs": [
    {
     "data": {
      "text/plain": [
       "177.01875"
      ]
     },
     "execution_count": 4,
     "metadata": {},
     "output_type": "execute_result"
    }
   ],
   "source": [
    "np.mean(height)"
   ]
  },
  {
   "cell_type": "code",
   "execution_count": 5,
   "id": "ab4783fa-b3ac-4a58-be2d-93e91a29602a",
   "metadata": {},
   "outputs": [
    {
     "data": {
      "text/plain": [
       "177.0"
      ]
     },
     "execution_count": 5,
     "metadata": {},
     "output_type": "execute_result"
    }
   ],
   "source": [
    "np.median(height)"
   ]
  },
  {
   "cell_type": "code",
   "execution_count": 6,
   "id": "c9e8652f-4945-4f2a-9292-93ea7340b685",
   "metadata": {},
   "outputs": [],
   "source": [
    "from scipy import stats"
   ]
  },
  {
   "cell_type": "code",
   "execution_count": 7,
   "id": "b2380bf7-3882-4173-b9dc-99aca41ef6a1",
   "metadata": {},
   "outputs": [
    {
     "name": "stderr",
     "output_type": "stream",
     "text": [
      "/tmp/ipykernel_8176/1690947930.py:1: FutureWarning: Unlike other reduction functions (e.g. `skew`, `kurtosis`), the default behavior of `mode` typically preserves the axis it acts along. In SciPy 1.11.0, this behavior will change: the default value of `keepdims` will become False, the `axis` over which the statistic is taken will be eliminated, and the value None will no longer be accepted. Set `keepdims` to True or False to avoid this warning.\n",
      "  stats.mode(height)\n"
     ]
    },
    {
     "data": {
      "text/plain": [
       "ModeResult(mode=array([177.]), count=array([3]))"
      ]
     },
     "execution_count": 7,
     "metadata": {},
     "output_type": "execute_result"
    }
   ],
   "source": [
    "stats.mode(height)"
   ]
  },
  {
   "cell_type": "markdown",
   "id": "31179d8e-5c61-4d2b-aa21-549d711527ce",
   "metadata": {},
   "source": [
    "#### Q4. Find the standard deviation for the given data:\n"
   ]
  },
  {
   "cell_type": "code",
   "execution_count": 8,
   "id": "eedd2b73-36eb-4f27-9455-f8e9542968fc",
   "metadata": {},
   "outputs": [],
   "source": [
    "data = [178,177,176,177,178.2,178,175,179,180,175,178.9,176.2,177,172.5,178,176.5]"
   ]
  },
  {
   "cell_type": "code",
   "execution_count": 9,
   "id": "cd917d2b-c163-45a1-9ebd-c6752ebe1d33",
   "metadata": {},
   "outputs": [
    {
     "data": {
      "text/plain": [
       "1.7885814036548633"
      ]
     },
     "execution_count": 9,
     "metadata": {},
     "output_type": "execute_result"
    }
   ],
   "source": [
    "np.std(data)"
   ]
  },
  {
   "cell_type": "markdown",
   "id": "4f293857-25fd-4b8c-a608-498cbd106c06",
   "metadata": {},
   "source": [
    "#### Q5. How are measures of dispersion such as range, variance, and standard deviation used to describe the spread of a dataset? Provide an example."
   ]
  },
  {
   "cell_type": "markdown",
   "id": "00e875f5-1518-46c6-b0eb-32de4eb679a3",
   "metadata": {},
   "source": [
    "##### Range:\n",
    "\n",
    "Calculation: Range is the difference between the maximum and minimum values in a dataset.\n",
    "Use: It gives a simple and quick indication of the spread of data, but it can be sensitive to extreme values (outliers). The larger the range, the more dispersed the data.\n",
    "\n",
    "Example:\n",
    "Consider two datasets: A = {5, 8, 10, 12, 15} and B = {3, 6, 10, 14, 18}. Both datasets have the same range of 10 (15 - 5), indicating a similar spread.\n",
    "\n",
    "##### Variance:\n",
    "\n",
    "Calculation: Variance measures how far each data point in the set is from the mean. It is the average of the squared differences between each data point and the mean.\n",
    "Use: Variance provides a more detailed understanding of the distribution, but it is in squared units, which might not be as interpretable. It is often used in statistical analysis.\n",
    "\n",
    "Example:\n",
    "For the dataset A = {5, 8, 10, 12, 15}, the mean is 10. The squared differences from the mean are (25, 4, 0, 4, 25). The variance is the average of these squared differences, which is 25+4+0+4+25/5=10.6\n",
    "\n",
    "##### Standard Deviation:\n",
    "\n",
    "Calculation: The standard deviation is the square root of the variance. It provides a measure of the average distance between each data point and the mean.\n",
    "Use: Standard deviation is more interpretable than variance since it is in the same units as the data. It gives a sense of the typical deviation from the mean.\n",
    "\n",
    "Example:\n",
    "For the dataset A, the standard deviation is the square root of the variance, so for A, it's approximately \n",
    "10.6≈3.25\n"
   ]
  },
  {
   "cell_type": "markdown",
   "id": "29e32dd1-5960-4e9a-9575-b7cc6146b93d",
   "metadata": {},
   "source": [
    "#### Q6. What is a Venn diagram?"
   ]
  },
  {
   "cell_type": "markdown",
   "id": "a8064906-abd8-41b3-9549-a9775f0be39d",
   "metadata": {},
   "source": [
    "A Venn diagram is a graphical representation that illustrates the relationships between sets. It consists of circles (or other shapes) that overlap, with each circle representing a set and the overlapping areas representing the intersections between sets. Venn diagrams are widely used in various fields, including mathematics, logic, statistics, and computer science, to visually depict and analyze relationships between different groups of items.\n",
    "\n",
    "Key features of a Venn diagram:\n",
    "\n",
    "Sets and Intersections: Each circle in the diagram represents a set, and the overlapping regions between circles represent the intersections of those sets.\n",
    "\n",
    "Overlap: The overlap between circles indicates the elements that are common to the sets involved in the intersection.\n",
    "\n",
    "Non-overlapping Regions: The portions of the circles that do not overlap represent the elements that are unique to each set.\n",
    "\n",
    "Universal Set: Sometimes, a rectangle or another shape enclosing all the circles is used to represent the universal set, which includes all possible elements relevant to the context."
   ]
  },
  {
   "cell_type": "markdown",
   "id": "c9fb4964-27fa-46e0-8f61-1c49c313a071",
   "metadata": {},
   "source": [
    "#### Q7. For the two given sets A = (2,3,4,5,6,7) & B = (0,2,6,8,10). Find:"
   ]
  },
  {
   "cell_type": "code",
   "execution_count": 12,
   "id": "727c9424-be64-4c3c-ba7d-cf0b0642e588",
   "metadata": {},
   "outputs": [],
   "source": [
    "A = {2,3,4,5,6,7}  \n",
    "B = {0,2,6,8,10}"
   ]
  },
  {
   "cell_type": "code",
   "execution_count": 13,
   "id": "b92506c4-5f40-49a0-9e0b-28510285ec5f",
   "metadata": {},
   "outputs": [
    {
     "data": {
      "text/plain": [
       "{0, 2, 3, 4, 5, 6, 7, 8, 10}"
      ]
     },
     "execution_count": 13,
     "metadata": {},
     "output_type": "execute_result"
    }
   ],
   "source": [
    "A.union(B)"
   ]
  },
  {
   "cell_type": "code",
   "execution_count": 14,
   "id": "b9dee720-9c3d-483c-a6a1-8d1ef5879701",
   "metadata": {},
   "outputs": [
    {
     "data": {
      "text/plain": [
       "{2, 6}"
      ]
     },
     "execution_count": 14,
     "metadata": {},
     "output_type": "execute_result"
    }
   ],
   "source": [
    "A.intersection(B)"
   ]
  },
  {
   "cell_type": "markdown",
   "id": "8847dbde-6064-4c7a-bb09-74d1f0fafcc8",
   "metadata": {},
   "source": [
    "#### Q8. What do you understand about skewness in data?"
   ]
  },
  {
   "cell_type": "markdown",
   "id": "0ced83ad-89b5-4b98-920c-a9ce5191098a",
   "metadata": {},
   "source": [
    "Positive Skewness (Right Skewness):\n",
    "\n",
    "In a positively skewed distribution, the right tail is longer or fatter than the left tail.\n",
    "The majority of the data points are concentrated on the left side of the distribution, with a few larger values on the right side.\n",
    "\n",
    "Relationship between mean,median and mode: mean>median>mode\n",
    "\n",
    "Negative Skewness (Left Skewness):\n",
    "\n",
    "In a negatively skewed distribution, the left tail is longer or fatter than the right tail.\n",
    "The majority of the data points are concentrated on the right side of the distribution, with a few smaller values on the left side.\n",
    "\n",
    "Relationship between mean,median and mode: mean<median<mode\n",
    "\n",
    "Zero Skewness (Symmetric):\n",
    "\n",
    "In a symmetric distribution, the left and right sides are mirror images of each other.\n",
    "\n",
    "Relationship between mean,median and mode: mean=median=mode"
   ]
  },
  {
   "cell_type": "markdown",
   "id": "92359194-7b57-4f5a-9951-91bff679d175",
   "metadata": {},
   "source": [
    "#### Q9. If a data is right skewed then what will be the position of median with respect to mean?"
   ]
  },
  {
   "cell_type": "markdown",
   "id": "8f550708-8441-47da-a5c3-0c00c268b04b",
   "metadata": {},
   "source": [
    "In a right-skewed distribution (positively skewed), the right tail of the distribution is longer or fatter than the left tail. This means that there are a few extremely high values that pull the mean (average) to the right. In a right-skewed distribution:\n",
    "\n",
    "The mean is typically greater than the median.\n",
    "The median is generally closer to the left tail and is less influenced by the extreme values on the right side.\n",
    "\n",
    "In summary, in a right-skewed distribution:\n",
    "\n",
    "Mean > Median"
   ]
  },
  {
   "cell_type": "markdown",
   "id": "2560df63-3318-4b95-8c8e-8a3f4f36f0fa",
   "metadata": {},
   "source": [
    "#### Q10. Explain the difference between covariance and correlation. How are these measures used in statistical analysis?"
   ]
  },
  {
   "attachments": {
    "f384421e-3a5d-42c7-9652-a0064f706742.png": {
     "image/png": "[encoded data removed]"
    }
   },
   "cell_type": "markdown",
   "id": "be5c6886-c44a-406d-8b2e-3186e8f21c95",
   "metadata": {},
   "source": [
    "#### Covariance:\n",
    "\n",
    "Definition: Covariance is a measure of how much two random variables change together. It quantifies the degree to which changes in one variable correspond to changes in another.\n",
    "\n",
    "Calculation: The covariance between two variables, X and Y, is calculated as the average of the product of the deviations of each variable from their respective means.\n",
    "![image.png](attachment:f384421e-3a5d-42c7-9652-a0064f706742.png)\n"
   ]
  },
  {
   "cell_type": "markdown",
   "id": "96e72bce-825b-4778-bd3b-06a8d2c0bd78",
   "metadata": {},
   "source": [
    "Interpretation:\n",
    "\n",
    "Positive covariance indicates that the two variables tend to increase or decrease together.\n",
    "Negative covariance indicates that one variable tends to increase when the other decreases."
   ]
  },
  {
   "cell_type": "markdown",
   "id": "762f7fb5-1ab0-4d96-8b5c-7ca18cfa684a",
   "metadata": {},
   "source": [
    "#### Correlation: \n",
    "Correlation is widely used because it provides a standardized measure, making it easier to interpret and compare the strength of relationships. It is also more robust since it is not influenced by the scale of the variables."
   ]
  },
  {
   "attachments": {
    "0485f87c-3808-4b9b-8168-30b1a3327e89.png": {
     "image/png": "[encoded data removed]"
    }
   },
   "cell_type": "markdown",
   "id": "a725227e-6daf-45b1-944e-8fbbd3da3c8c",
   "metadata": {},
   "source": [
    "There are two types of Correlation:\n",
    "#### Pearson Correlation Coefficient (r):\n",
    "\n",
    "Definition: Measures the linear relationship between two continuous variables.\n",
    "In this all the values will be ranging from -1 to +1\n",
    "\n",
    "![image.png](attachment:0485f87c-3808-4b9b-8168-30b1a3327e89.png)\n",
    "\n",
    "The more the value towards +1 the more positive correlated it is \n",
    "\n",
    "The more the value towards -1 the more negative correlated it is"
   ]
  },
  {
   "attachments": {
    "c9b51a8f-a166-4db5-ba32-eb26633f14a8.png": {
     "image/png": "[encoded data removed]"
    }
   },
   "cell_type": "markdown",
   "id": "4d147e5e-4ac4-46cb-a7a2-003d55ead9c4",
   "metadata": {},
   "source": [
    "#### Spearman Rank Correlation Coefficient (\n",
    "\n",
    "Definition: Measures the strength and direction of the monotonic relationship between two variables (continuous or ordinal).\n",
    "\n",
    "Use: Does not assume linearity and is suitable for non-linear relationships.\n",
    "\n",
    "Range: -1 (perfect negative rank correlation) to 1 (perfect positive rank correlation), with 0 indicating no monotonic correlation.\n",
    "\n",
    "![image.png](attachment:c9b51a8f-a166-4db5-ba32-eb26633f14a8.png)"
   ]
  },
  {
   "attachments": {
    "ab309894-3b68-465b-aa07-7c2e6cf4075d.png": {
     "image/png": "[encoded data removed]"
    }
   },
   "cell_type": "markdown",
   "id": "1711dfc8-0fc2-429f-b946-934bb12b80ca",
   "metadata": {},
   "source": [
    "#### Q11. What is the formula for calculating the sample mean? Provide an example calculation for a dataset.\n",
    "\n",
    "![image.png](attachment:ab309894-3b68-465b-aa07-7c2e6cf4075d.png)\n",
    "\n",
    "where:\n",
    "\n",
    "x̄ is the sample mean\n",
    "\n",
    "xi reprsents each individual value in the dataset\n",
    "\n",
    "n is the no. of observations in the sample\n",
    "\n",
    "X={12,18,22,25,30}\n",
    "\n",
    "x̄ = 12+18+22+25+30/5\n",
    "\n",
    "x̄ = 21.4"
   ]
  },
  {
   "cell_type": "markdown",
   "id": "bf17200e-4355-49db-b28f-4dd95944f73e",
   "metadata": {},
   "source": [
    "#### Q12. For a normal distribution data what is the relationship between its measure of central tendency?"
   ]
  },
  {
   "cell_type": "markdown",
   "id": "9577397d-4de2-46ad-8416-ba85f850dc77",
   "metadata": {},
   "source": [
    "Mean (μ):\n",
    "In a perfectly symmetrical normal distribution, the mean is located at the center of the distribution.\n",
    "The mean is equal to the median in a normal distribution.\n",
    "\n",
    "Median:\n",
    "The median of a normal distribution is also located at the center.\n",
    "In a perfectly symmetrical normal distribution, the median is equal to the mean.\n",
    "\n",
    "Mode:\n",
    "In a normal distribution, the mode is also at the center of the distribution.\n",
    "For a normal distribution, the mode, mean, and median are all equal.\n",
    "In summary, for a perfectly symmetrical normal distribution:\n",
    "\n",
    "Mean=Median=Mode\n"
   ]
  },
  {
   "cell_type": "markdown",
   "id": "ad9b8755-2191-4813-b94e-fd30c52f0a1c",
   "metadata": {},
   "source": [
    "#### Q13. How is covariance different from correlation?"
   ]
  },
  {
   "cell_type": "markdown",
   "id": "3951a281-ca0d-4108-8dc6-370de12975b3",
   "metadata": {},
   "source": [
    "##### Covariance:\n",
    "\n",
    "Scale: Covariance is not standardized, and its value is in the units of the product of the units of the two variables.\n",
    "\n",
    "Range: The range of covariance is unbounded, so it can take any real value.\n",
    "\n",
    "Interpretation: The sign of covariance indicates the direction of the linear relationship (positive or negative), but the magnitude is not easily interpretable. A positive covariance implies that increases in one variable are associated with increases in the other, and vice versa for negative covariance.\n",
    "Effect of Scale: The value of covariance is highly dependent on the scales of the variables. Therefore, comparing covariances between different pairs of variables may be challenging.\n",
    "\n",
    "##### Correlation:\n",
    "\n",
    "Scale: Correlation is a standardized measure, and its value always lies between -1 and 1.\n",
    "\n",
    "Range: The range of correlation is standardized, making it easier to interpret. A correlation of 1 indicates a perfect positive linear relationship, -1 indicates a perfect negative linear relationship, and 0 indicates no linear relationship.\n",
    "\n",
    "Interpretation: Correlation provides a more interpretable measure of the strength and direction of the linear relationship between two variables. It is not affected by the scale of the variables.\n",
    "Effect of Scale: Correlation is not influenced by the scale of the variables, making it a more useful measure for comparing the strength of relationships between different pairs of variables."
   ]
  },
  {
   "cell_type": "markdown",
   "id": "3bdc3805-ce64-4799-80fd-e0dfdd08c7db",
   "metadata": {},
   "source": [
    "#### Q14. How do outliers affect measures of central tendency and dispersion? Provide an example."
   ]
  },
  {
   "cell_type": "markdown",
   "id": "0d1f81e5-60ee-4474-92db-a2c46680ec67",
   "metadata": {},
   "source": [
    "Measures of Central Tendency:\n",
    "\n",
    "Mean: Outliers can disproportionately influence the mean, as it is sensitive to extreme values. A single extremely high or low value can pull the mean in its direction.\n",
    "\n",
    "Median: The median is less affected by outliers because it is based on the middle value of the dataset. It is a more robust measure of central tendency in the presence of outliers.\n",
    "Example:\n",
    "Consider the dataset: {10, 15, 20, 25, 30, 100}. The mean is significantly influenced by the outlier (100):\n",
    "\n",
    "Mean = 10+15+20+25+30+100/6 = 200/6 ≈ 33.3\n",
    "\n",
    "Median = 22.5\n",
    "\n",
    "Measures of Dispersion:\n",
    "\n",
    "Range: Outliers can greatly impact the range, as the range is the difference between the maximum and minimum values. If an outlier is present, it can increase the range substantially.\n",
    "\n",
    "Variance and Standard Deviation: These measures are influenced by the squared differences between each data point and the mean. Outliers, especially those far from the mean, can significantly increase the squared differences, leading to larger variance and standard deviation values.\n",
    "\n",
    "Example:\n",
    "Consider the dataset: {10, 15, 20, 25, 30, 100}. The range is affected by the outlier:\n",
    "\n",
    "Range = 100-10 = 90\n",
    "\n",
    "The variance and standard deviation are also influenced:\n",
    "\n",
    "Variance ≈ 1118.33\n",
    "\n",
    "Standard Deviation ≈ 33.48"
   ]
  },
  {
   "cell_type": "code",
   "execution_count": null,
   "id": "3e783ad8-9ece-47ae-974d-75fab7f1360c",
   "metadata": {},
   "outputs": [],
   "source": []
  }
 ],
 "metadata": {
  "kernelspec": {
   "display_name": "Python 3 (ipykernel)",
   "language": "python",
   "name": "python3"
  },
  "language_info": {
   "codemirror_mode": {
    "name": "ipython",
    "version": 3
   },
   "file_extension": ".py",
   "mimetype": "text/x-python",
   "name": "python",
   "nbconvert_exporter": "python",
   "pygments_lexer": "ipython3",
   "version": "3.10.8"
  }
 },
 "nbformat": 4,
 "nbformat_minor": 5
}
