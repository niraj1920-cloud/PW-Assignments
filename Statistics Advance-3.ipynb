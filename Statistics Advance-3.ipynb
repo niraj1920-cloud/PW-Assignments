{
 "cells": [
  {
   "cell_type": "markdown",
   "id": "19ef595d-9e2b-4b3a-af04-c77f037894f6",
   "metadata": {},
   "source": [
    "#### Q1: What is Estimation Statistics? Explain point estimate and interval estimate."
   ]
  },
  {
   "cell_type": "markdown",
   "id": "74f06a51-5d80-4771-9059-1fbd50ea406e",
   "metadata": {},
   "source": [
    "Estimate Statistics: It is a specified observed numerical value used to estimate an unknown population parameter.\n",
    "\n",
    "Types:\n",
    "\n",
    "1.Point Estimate: Single numerical value used to estimate an unknown population parameter.\n",
    "\n",
    "Example: Sample mean is a point estimate of population mean.\n",
    "\n",
    "2.Interval Estimate: Range of values used to estimate the unknown population parameter.\n",
    "\n",
    "Example: Confidence intervals are a common form of interval estimate. A confidence interval consists of a range of values and a level of confidence that the true parameter falls within that range. For example, a 95% confidence interval for the average height of students might be from 160 cm to 170 cm."
   ]
  },
  {
   "cell_type": "markdown",
   "id": "68fa7228-a962-4cad-8640-837b9298b10e",
   "metadata": {},
   "source": [
    "#### Q2. Write a Python function to estimate the population mean using a sample mean and standard deviation."
   ]
  },
  {
   "cell_type": "code",
   "execution_count": 9,
   "id": "a974fb49-b762-4286-b208-f2af955f27a3",
   "metadata": {},
   "outputs": [
    {
     "name": "stdout",
     "output_type": "stream",
     "text": [
      "{'estimated_sample_mean': 500, 'Confidence Interval': (486.1407070887437, 513.8592929112564)}\n"
     ]
    }
   ],
   "source": [
    "import math\n",
    "\n",
    "def estimate_population(sample_mean , sample_std , smaple_size):\n",
    "    standard_error = sample_std/math.sqrt(sample_size)\n",
    "    margin_of_error = 1.96*standard_error\n",
    "    lower_bound = sample_mean - margin_of_error\n",
    "    upper_bound = sample_mean + margin_of_error\n",
    "    \n",
    "    return {\"estimated_sample_mean\" : sample_mean,\n",
    "            \"Confidence Interval\" : (lower_bound , upper_bound)\n",
    "           }\n",
    "\n",
    "sample_mean = 500\n",
    "sample_std = 50\n",
    "sample_size = 50\n",
    "\n",
    "result = estimate_population(sample_mean,sample_std,sample_size)\n",
    "print(result)"
   ]
  },
  {
   "cell_type": "markdown",
   "id": "3712d2a4-bba8-4a78-8064-a516a4019092",
   "metadata": {},
   "source": [
    "#### Q3: What is Hypothesis testing? Why is it used? State the importance of Hypothesis testing."
   ]
  },
  {
   "cell_type": "markdown",
   "id": "05b663f3-a61a-40e9-9461-dad557fd2389",
   "metadata": {},
   "source": [
    "Hypothesis testing is a statistical tool that helps researchers determine whether there is enough evidence to support or reject a hypothesis. It's a way to verify the validity of an experiment's results. \n",
    "\n",
    "Hypothesis Testing Mechanism:\n",
    "\n",
    "1.Null Hypothesis (H0):The assumption you are beginning with \n",
    "\n",
    "2.Alternate Hypothesis(H1):Opposite of Null Hypothesis\n",
    "\n",
    "3.Experiments: Statistical Analysis\n",
    "\n",
    "4.Accept the Null Hypothesis or Reject the Null Hypothesis \n",
    "\n",
    "Importance of Hypothesis testing:\n",
    "\n",
    "Hypothesis testing is one of the most important concepts in statistics because it is how you decide if something really happened, or if certain treatments have positive effects, or if groups differ from each other or if one variable predicts another. In short, you want to proof if your data is statistically significant and unlikely to have occurred by chance alone. In essence then, a hypothesis test is a test of significance."
   ]
  },
  {
   "cell_type": "markdown",
   "id": "0427cbbb-39c1-4101-b1f3-896c23123aa2",
   "metadata": {},
   "source": [
    "#### Q4. Create a hypothesis that states whether the average weight of male college students is greater than the average weight of female college students."
   ]
  },
  {
   "cell_type": "markdown",
   "id": "1005b328-9914-42f6-a40e-55f526b1b06a",
   "metadata": {},
   "source": [
    "Null Hpothesis(H0): The average weight of male college students is greater than the average weight of female college students.\n",
    "\n",
    "Alternate Hypothesis(H1): The average weight of male college students is less than or equal to the average weight of female college students.\n",
    "\n",
    "HO: mean_of_male_weight > mean_of_female_weight\n",
    "\n",
    "H1: mean_of_male_weight <= mean_of_female_weight\n",
    "\n",
    "In hypothesis testing, you would collect sample data from both male and female college students, perform statistical analysis, and then assess whether the evidence supports rejecting the null hypothesis or in favor of the alternative hypothesis."
   ]
  },
  {
   "cell_type": "markdown",
   "id": "4f1cb34f-c59d-4278-984b-30c07325f39f",
   "metadata": {},
   "source": [
    "#### Q5. Write a Python script to conduct a hypothesis test on the difference between two population means, given a sample from each population."
   ]
  },
  {
   "cell_type": "code",
   "execution_count": 5,
   "id": "eca78d5d-df14-47a8-96c2-5e217f50d0a6",
   "metadata": {},
   "outputs": [
    {
     "name": "stdout",
     "output_type": "stream",
     "text": [
      "T-statistic: 4.392626340383589\n",
      "P-value: 2.90357370262906e-05\n",
      "Hypothesis Result: Reject the Null Hypothesis\n"
     ]
    }
   ],
   "source": [
    "import numpy as np\n",
    "from scipy.stats import ttest_ind\n",
    "\n",
    "def conduct_t_test(sample1 , sample2 , alpha=0.05):\n",
    "    t_statistics , p_value = ttest_ind(sample1 , sample2 , equal_var = False)\n",
    "    \n",
    "    if p_value < alpha:\n",
    "        result = \"Reject the Null Hypothesis\"\n",
    "    else:\n",
    "        result = \"Fail to reject the Null Hypothesis\"\n",
    "        \n",
    "    return t_statistics,p_value,result\n",
    "\n",
    "np.random.seed(42)\n",
    "\n",
    "sample_male = np.random.normal(loc=70,scale=5,size=50) #loc:mean,scale:std,size:size of data\n",
    "sample_female = np.random.normal(loc=65,scale=4.5,size=50)\n",
    "\n",
    "t_stat, p_val, hypothesis_result = conduct_t_test(sample_male, sample_female)\n",
    "\n",
    "print(f\"T-statistic: {t_stat}\")\n",
    "print(f\"P-value: {p_val}\")\n",
    "print(f\"Hypothesis Result: {hypothesis_result}\")\n"
   ]
  },
  {
   "cell_type": "markdown",
   "id": "4c6e3bc7-d246-4357-9fc9-0a82928a8724",
   "metadata": {},
   "source": [
    "#### Q6: What is a null and alternative hypothesis? Give some examples."
   ]
  },
  {
   "cell_type": "markdown",
   "id": "83629caf-aa2f-4d4c-8780-e19664ca87c0",
   "metadata": {},
   "source": [
    "Null Hypothesis(H0):\n",
    "\n",
    "The null hypothesis is a statement of no effect, no difference, or no change.\n",
    "It represents the default assumption that there is no real effect or no difference in the population.\n",
    "The null hypothesis is what researchers aim to test against.\n",
    "It is often expressed using an equal sign (=).\n",
    "\n",
    "Examples:\n",
    "\n",
    "1.The average height of male and female students is the same (HO:μmale = μfemale)\n",
    "\n",
    "2.There is no difference in test scores before and after the intervention (HO:μbefore = μafter)\n",
    "\n",
    "Alternate Hypothesis(H1):\n",
    "\n",
    "The alternative hypothesis is a statement that contradicts the null hypothesis.\n",
    "It represents what researchers hope to demonstrate through their study.\n",
    "It is often expressed using inequality symbols (≠, <, >) to indicate a difference or a directional effect.\n",
    "\n",
    "Examples:\n",
    "\n",
    "1.The average of male and female students is different (H1:μmale ≠ μfemale)\n",
    "\n",
    "2.There is a increase in test scores after the intervention (H1:μbefore<μafter)"
   ]
  },
  {
   "cell_type": "markdown",
   "id": "3eec21a5-faad-4891-a6c4-af4e3aa4ae3f",
   "metadata": {},
   "source": [
    "#### Q7: Write down the steps involved in hypothesis testing."
   ]
  },
  {
   "cell_type": "markdown",
   "id": "b323a5e4-ff61-4d25-9c35-78b630d5e85f",
   "metadata": {},
   "source": [
    "Formulate Hypotheses:\n",
    "\n",
    "Null Hypothesis (H0): State the default assumption, often reflecting no effect, no difference, or no change.\n",
    "Alternative Hypothesis (H1 or Ha): State the research hypothesis, representing what you hope to demonstrate through the study.\n",
    "\n",
    "Choose Significance Level (α):\n",
    "\n",
    "Decide on the level of significance, denoted as α. Common choices include 0.05, 0.01, or 0.10. It represents the probability of making a Type I error (incorrectly rejecting a true null hypothesis).\n",
    "\n",
    "Select a Statistical Test:\n",
    "\n",
    "Choose an appropriate statistical test based on the type of data and the nature of the hypotheses (e.g., t-test, chi-square test, ANOVA).\n",
    "\n",
    "Collect and Analyze Data:\n",
    "\n",
    "Collect a sample that is representative of the population.\n",
    "Analyze the sample data using the chosen statistical test to calculate a test statistic and/or a p-value.\n",
    "\n",
    "Calculate Test Statistic:\n",
    "\n",
    "Compute the test statistic based on the sample data. The test statistic depends on the chosen statistical test.\n",
    "\n",
    "Determine Critical Region or Critical Value:\n",
    "\n",
    "Identify the critical region (rejection region) or critical value(s) based on the chosen significance level and the distribution of the test statistic. This is the region where you would reject the null hypothesis.\n",
    "\n",
    "Make a Decision:\n",
    "\n",
    "If the test statistic falls into the critical region, reject the null hypothesis.\n",
    "If the test statistic does not fall into the critical region, fail to reject the null hypothesis.\n",
    "\n",
    "Calculate P-value:\n",
    "\n",
    "Alternatively, calculate the p-value associated with the test statistic. The p-value represents the probability of obtaining the observed results (or more extreme) if the null hypothesis is true.\n",
    "\n",
    "Compare P-value to Significance Level:\n",
    "\n",
    "If the p-value is less than or equal to the significance level (α), reject the null hypothesis.\n",
    "If the p-value is greater than the significance level, fail to reject the null hypothesis.\n",
    "\n",
    "Draw Conclusions:\n",
    "\n",
    "State the conclusions based on the statistical analysis. If the null hypothesis is rejected, provide evidence for the alternative hypothesis. If the null hypothesis is not rejected, acknowledge the lack of evidence to support the alternative hypothesis.\n",
    "\n",
    "Consider Limitations and Interpret Results:\n",
    "\n",
    "Reflect on the limitations of the study and interpret the results in the context of the research question."
   ]
  },
  {
   "cell_type": "markdown",
   "id": "841c0dc9-600b-471d-b409-b691795b3776",
   "metadata": {},
   "source": [
    "#### Q8. Define p-value and explain its significance in hypothesis testing."
   ]
  },
  {
   "cell_type": "markdown",
   "id": "e6fa02d6-c8b6-45f4-a1b6-7c03b3fb3557",
   "metadata": {},
   "source": [
    "The P value is a no.calculated from a statistical test, that describes how likely you are to have found a particular set of observations if the null hypothesis were true. \n",
    "\n",
    "Significance in hypothesis testing:\n",
    "\n",
    "P values are used in hypothesis testing to help decide whether to reject the null hypothesis. The smaller the p value, the more likely you are to reject the null hypothesis and if the p-value is greater than or equal to the significance value then we say we failed to reject the null hypothesis."
   ]
  },
  {
   "cell_type": "markdown",
   "id": "a6b8e260-9400-4aeb-af5e-12b6a664f8fe",
   "metadata": {},
   "source": [
    "#### Q9. Generate a Student's t-distribution plot using Python's matplotlib library, with the degrees of freedom parameter set to 10."
   ]
  },
  {
   "cell_type": "code",
   "execution_count": 12,
   "id": "b45a9de7-2845-4939-9d99-dc5722654bf0",
   "metadata": {},
   "outputs": [
    {
     "data": {
      "text/plain": [
       "[<matplotlib.lines.Line2D at 0x7fcc507fab30>]"
      ]
     },
     "execution_count": 12,
     "metadata": {},
     "output_type": "execute_result"
    },
    {
     "data": {
      "image/png": "[encoded data removed]",
      "text/plain": [
       "<Figure size 640x480 with 2 Axes>"
      ]
     },
     "metadata": {},
     "output_type": "display_data"
    }
   ],
   "source": [
    "import numpy as np\n",
    "import matplotlib.pyplot as plt\n",
    "import scipy.stats as stats\n",
    "from scipy.stats import t\n",
    "\n",
    "x=np.linspace(-5,5,100)\n",
    "dof=10\n",
    "\n",
    "values = stats.t.rvs(dof,x) #using t.rvs function\n",
    "\n",
    "plt.subplot(1, 2, 1)  # row 1, column 2, count 1\n",
    "\n",
    "plt.hist(values)\n",
    "\n",
    "pdf = t.pdf(x,dof) #using pdf function\n",
    "\n",
    "plt.subplot(1, 2, 2)  # row 1, column 2, count 2\n",
    "\n",
    "plt.plot(pdf)"
   ]
  },
  {
   "cell_type": "markdown",
   "id": "bcc722e9-6c6f-469f-92c8-1d8c85fdbbba",
   "metadata": {},
   "source": [
    "#### Q10. Write a Python program to calculate the two-sample t-test for independent samples, given two random samples of equal size and a null hypothesis that the population means are equal."
   ]
  },
  {
   "cell_type": "code",
   "execution_count": 5,
   "id": "a6a47e81-bf83-4066-a793-20bffddacc64",
   "metadata": {},
   "outputs": [
    {
     "name": "stdout",
     "output_type": "stream",
     "text": [
      "T Statistics:-6.872731683285841\n",
      "P value:5.877565294167719e-10\n",
      "Hypothesis Result:Reject the Null Hypothesis\n"
     ]
    }
   ],
   "source": [
    "import numpy as np\n",
    "from scipy.stats import ttest_ind\n",
    "\n",
    "def conduct_ttest(sample1,sample2,alpha=0.5):\n",
    "    t_statistics , p_value = ttest_ind(sample1,sample2)\n",
    "    \n",
    "    if p_value < alpha:\n",
    "        result = \"Reject the Null Hypothesis\"\n",
    "    else:\n",
    "        result = \"Accept the Null Hypothesis\"\n",
    "        \n",
    "    return t_statistics , p_value , result\n",
    "\n",
    "np.random.seed(42)\n",
    "\n",
    "sample1=np.random.normal(loc=10,scale=2,size=50)\n",
    "sample2=np.random.normal(loc=12,scale=2,size=50)\n",
    "\n",
    "t_test,p_value,hypothesis = conduct_ttest(sample1,sample2)\n",
    "\n",
    "print(f\"T Statistics:{t_test}\")\n",
    "print(f\"P value:{p_value}\")\n",
    "print(f\"Hypothesis Result:{hypothesis}\")"
   ]
  },
  {
   "cell_type": "markdown",
   "id": "10965b6d-870c-41ea-af10-d8f805559598",
   "metadata": {},
   "source": [
    "#### Q11: What is Student’s t distribution? When to use the t-Distribution."
   ]
  },
  {
   "attachments": {
    "6183ad7b-6ad8-4156-810b-4f0d8c195575.png": {
     "image/png": "[encoded data removed]"
    }
   },
   "cell_type": "markdown",
   "id": "a8417e35-8ab8-4341-ad4d-671e154e884b",
   "metadata": {},
   "source": [
    "The t-distribution is a hypothetical probability distribution. It is also known as the student’s t-distribution and used to make presumptions about a mean when the standard deviation is not known to us. It is symmetrical, bell-shaped distribution, similar to the standard normal curve. As high as the degrees of freedom (df), the closer this distribution will approximate a standard normal distribution with a mean of 0 and a standard deviation of 1.\n",
    "\n",
    "Let x have a normal distribution with mean ‘μ’ for the sample of size ‘n’ with sample mean x̄ and the sample standard deviation ‘s’, then the t variable has student’s t-distribution with a degree of freedom, d.f = n – 1. The formula for t-distribution is given by;\n",
    "\n",
    "![image.png](attachment:6183ad7b-6ad8-4156-810b-4f0d8c195575.png)\n",
    "\n",
    "When to use the t-distribution:\n",
    "\n",
    "In z stats when we perform any analysis using z-score we require population standard deviation. How do we perform any analysis when we don't know the population stanadard deviation, using standard t-distribution"
   ]
  },
  {
   "cell_type": "markdown",
   "id": "d01f170f-b1cd-4704-85d1-7012d5c5614c",
   "metadata": {},
   "source": [
    "#### Q12: What is t-statistic? State the formula for t-statistic."
   ]
  },
  {
   "cell_type": "markdown",
   "id": "a0564636-8dd5-4cf6-a96a-f14465f1d8ca",
   "metadata": {},
   "source": [
    "t-statistic: \n",
    "\n",
    "The t-statistic is a measure of how far the sample mean is from the hypothesized population mean, divided by the standard error of the mean. It is used in hypothesis testing to determine whether to support or reject the null hypothesis that the sample mean is equal to the hypothesized population mean.\n",
    "The formula for the t-statistic is:\n",
    "\n",
    "t = (x̄ - μ) / (s / √n) \n",
    "\n",
    "where:\n",
    "\n",
    "x̄ is the sample mean\n",
    "\n",
    "μ is the hypothesized population mean\n",
    "\n",
    "s is the sample standard deviation\n",
    "\n",
    "n is the sample size"
   ]
  },
  {
   "cell_type": "markdown",
   "id": "90e5fee3-5aee-4932-98f6-86c8bc6f1501",
   "metadata": {},
   "source": [
    "#### Q13. A coffee shop owner wants to estimate the average daily revenue for their shop. They take a random sample of 50 days and find the sample mean revenue to be $500 with a standard deviation of $50.Estimate the population mean revenue with a 95% confidence interval."
   ]
  },
  {
   "attachments": {
    "09753756-3637-49c9-9411-612e89d68ac5.png": {
     "image/png": "[encoded data removed]"
    }
   },
   "cell_type": "markdown",
   "id": "cd6c212a-6d60-4b10-bfd4-b015a2fca1a9",
   "metadata": {},
   "source": [
    "To estimate the population mean based on C.I, we can use the formula\n",
    "\n",
    "![image.png](attachment:09753756-3637-49c9-9411-612e89d68ac5.png)\n",
    "\n",
    "where x̄ is the sample mean\n",
    "\n",
    "z is the critica z-value for the desired confidence level\n",
    "\n",
    "s is the sample standard deviation\n",
    "\n",
    "n is the sample size\n",
    "\n",
    "Now the critical z value with C.I 95% is 1.96\n",
    "\n",
    "Confidence Interval = 500 +- = (1.96*50/√50) = 500 +- 13.85\n",
    "\n",
    "Lower Bound = 500 - 13.85 = 486.15\n",
    "\n",
    "Upper Bound = 500 + 13.85 = 513.85\n",
    "\n",
    "So, the 95% confidence interval for the population mean revenue is approximately $486.12 to $513.88. This means we are 95% confident that the true average daily revenue for the coffee shop falls within this range"
   ]
  },
  {
   "cell_type": "markdown",
   "id": "4e029807-1439-4203-aa08-24dfad143234",
   "metadata": {},
   "source": [
    "#### Q14. A researcher hypothesizes that a new drug will decrease blood pressure by 10 mmHg. They conduct a clinical trial with 100 patients and find that the sample mean decrease in blood pressure is 8 mmHg with a standard deviation of 3 mmHg. Test the hypothesis with a significance level of 0.05."
   ]
  },
  {
   "cell_type": "markdown",
   "id": "45dce311-a9a7-4123-b8de-9ad239368e08",
   "metadata": {},
   "source": [
    "H0:μ=10\n",
    "\n",
    "H1:μ≠10\n",
    "\n",
    "x̄=8 , μ=10 , n=100 , σ=3 , α=0.05\n",
    "\n",
    "t =  (x̄ - μ0) / (s / √n)\n",
    "\n",
    "=8-10/3√100\n",
    "\n",
    "=-2/0.3\n",
    "\n",
    "=-6.67\n",
    "\n",
    "Now with dof=n-1=99 it is a two tailed test with α=0.05 from t table will get value as +-1.984 \n",
    "\n",
    "Now with t-statistics of -6.67 which falls outside the range of +-1.984 we would reject the Null Hypothesis.\n",
    "\n",
    "Therefore, there is evidence to suggest that the new drug has a statistically significant effect odecreasing blood pressure at the 0.05 significance level."
   ]
  },
  {
   "cell_type": "markdown",
   "id": "b14c4ef6-4d7a-432f-84a5-7abdf3e56b6f",
   "metadata": {},
   "source": [
    "#### Q15. An electronics company produces a certain type of product with a mean weight of 5 pounds and a standard deviation of 0.5 pounds. A random sample of 25 products is taken, and the sample mean weight is found to be 4.8 pounds. Test the hypothesis that the true mean weight of the products is less than 5 pounds with a significance level of 0.01."
   ]
  },
  {
   "attachments": {
    "6243b7d8-dc73-4d33-8410-f1af72ef9e02.png": {
     "image/png": "[encoded data removed]"
    }
   },
   "cell_type": "markdown",
   "id": "33dd9072-1498-4dbc-bb50-171d4f77315b",
   "metadata": {},
   "source": [
    "H0:μ=5\n",
    "\n",
    "H1:μ<5\n",
    "\n",
    "The z-statistics formula is:\n",
    "    \n",
    "![image.png](attachment:6243b7d8-dc73-4d33-8410-f1af72ef9e02.png)\n",
    "\n",
    "where\n",
    "    x̄=sample mean\n",
    "    \n",
    "    μ=population mean\n",
    "    \n",
    "    σ=sample std devaitaion\n",
    "    \n",
    "    n=sample size\n",
    "    \n",
    "    z = 4.8-5/0.5/√25\n",
    "    \n",
    "    z=-2\n",
    "    \n",
    "Now let's compare the absolute value of z-statistics to the critical value from the z-table at a significance level of 0.01 is -2.33 \n",
    "\n",
    "Since -2<-2.33 we would reject the Null Hypothesis\n",
    "\n",
    "There is evidence to suggest that the true mean weight of the products is less than 5 pounds at the 0.01 significance level."
   ]
  },
  {
   "cell_type": "markdown",
   "id": "07ae32e2-3500-4b20-b3b2-2344d3faa664",
   "metadata": {},
   "source": [
    "#### Q16. Two groups of students are given different study materials to prepare for a test. The first group (n1 =30) has a mean score of 80 with a standard deviation of 10, and the second group (n2 = 40) has a mean score of 75 with a standard deviation of 8. Test the hypothesis that the population means for the two groups are equal with a significance level of 0.01."
   ]
  },
  {
   "attachments": {
    "fea98323-e82b-49e3-8f7d-75df25d0099a.png": {
     "image/png": "[encoded data removed]"
    }
   },
   "cell_type": "markdown",
   "id": "90cb8a16-003c-4863-89f2-92d944c24e9c",
   "metadata": {},
   "source": [
    "H0:μ1=μ2\n",
    "\n",
    "H1:μ1≠μ2\n",
    "\n",
    "n1=30\n",
    "μ1=80\n",
    "σ1=10\n",
    "\n",
    "n2=40\n",
    "μ2=75\n",
    "σ2=8\n",
    "\n",
    "The formula for the t-statistic in a two-sample independent t-test is:\n",
    "\n",
    "![image.png](attachment:fea98323-e82b-49e3-8f7d-75df25d0099a.png)\n",
    "\n",
    "t = 80-75/√100/30 + 64/40\n",
    "\n",
    "t = 2.252\n",
    "\n",
    "Now next we will compare the calculated t-statistic to the critical value from a t-distribution with dof=n1+n2-2=68\n",
    "\n",
    "For a two-tailed test at 0.01 significance level is 2.630\n",
    "\n",
    "So, 2.25<2.630 \n",
    "\n",
    "We failed to reject the Null Hypothesis\n",
    "\n",
    "We do not have enough evidence to conclude that the population means of two groups are different at 0.01 significance level."
   ]
  },
  {
   "cell_type": "markdown",
   "id": "f1cc13e1-0f37-43ef-a66d-594a965cafec",
   "metadata": {},
   "source": [
    "#### Q17. A marketing company wants to estimate the average number of ads watched by viewers during a TV program. They take a random sample of 50 viewers and find that the sample mean is 4 with a standard deviation of 1.5. Estimate the population mean with a 99% confidence interval."
   ]
  },
  {
   "attachments": {
    "dd874388-5266-4c7c-8eef-fcb0661a2d6c.png": {
     "image/png": "[encoded data removed]"
    }
   },
   "cell_type": "markdown",
   "id": "76ee99a6-378d-44b4-b9ba-623275d8ee6b",
   "metadata": {},
   "source": [
    "To estimate the population mean with a 99% confidence interval, you can use the formula for the confidence interval for the population mean (μ):\n",
    "\n",
    "![image.png](attachment:dd874388-5266-4c7c-8eef-fcb0661a2d6c.png)\n",
    "\n",
    "=4+-(2.58*1.5/√50)\n",
    "\n",
    "=4+-0.5463\n",
    "\n",
    "Lower Bound = 4-0.5463=3.4537\n",
    "\n",
    "Upper Bound = 4+0.5463=4.5463\n",
    "\n",
    "This results in a 99% confidence interval of approximately 3.4532 to 4.5468 for the average number of ads watched by viewers during a TV program."
   ]
  },
  {
   "cell_type": "code",
   "execution_count": null,
   "id": "e593fefc-201c-4fe1-94b5-f5bc1bd5cf0d",
   "metadata": {},
   "outputs": [],
   "source": []
  }
 ],
 "metadata": {
  "kernelspec": {
   "display_name": "Python 3 (ipykernel)",
   "language": "python",
   "name": "python3"
  },
  "language_info": {
   "codemirror_mode": {
    "name": "ipython",
    "version": 3
   },
   "file_extension": ".py",
   "mimetype": "text/x-python",
   "name": "python",
   "nbconvert_exporter": "python",
   "pygments_lexer": "ipython3",
   "version": "3.10.8"
  }
 },
 "nbformat": 4,
 "nbformat_minor": 5
}
